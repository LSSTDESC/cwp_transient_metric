{
 "cells": [
  {
   "cell_type": "markdown",
   "metadata": {},
   "source": [
    "## Confusion Matrix"
   ]
  },
  {
   "cell_type": "code",
   "execution_count": 1,
   "metadata": {},
   "outputs": [
    {
     "name": "stderr",
     "output_type": "stream",
     "text": [
      "/Users/cnsetzer/miniconda3/envs/astrotog/lib/python3.5/importlib/_bootstrap.py:222: RuntimeWarning: numpy.dtype size changed, may indicate binary incompatibility. Expected 96, got 88\n",
      "  return f(*args, **kwds)\n",
      "/Users/cnsetzer/miniconda3/envs/astrotog/lib/python3.5/importlib/_bootstrap.py:222: RuntimeWarning: numpy.dtype size changed, may indicate binary incompatibility. Expected 96, got 88\n",
      "  return f(*args, **kwds)\n",
      "/Users/cnsetzer/miniconda3/envs/astrotog/lib/python3.5/importlib/_bootstrap.py:222: RuntimeWarning: numpy.dtype size changed, may indicate binary incompatibility. Expected 96, got 88\n",
      "  return f(*args, **kwds)\n"
     ]
    }
   ],
   "source": [
    "import re\n",
    "import matplotlib.pyplot as plt\n",
    "import itertools\n",
    "import pandas as pd\n",
    "from copy import deepcopy\n",
    "from sklearn.metrics import confusion_matrix\n",
    "import numpy as np"
   ]
  },
  {
   "cell_type": "markdown",
   "metadata": {},
   "source": [
    "* Object\n",
    "* RA, DEC\n",
    "* delta t lambda (for detected objects)\n",
    "* Milky extinction\n",
    "* Redshift\n",
    "* nObs per pass-band\n",
    "* Peak-mag per pass-band"
   ]
  },
  {
   "cell_type": "code",
   "execution_count": 2,
   "metadata": {},
   "outputs": [],
   "source": [
    "# dataframe( columns = ['true', 'predicted', 'RA', 'Dec', 'prop'])\n",
    "\n",
    "#def transientMetricPlots(y_true, y_pred, RA, DEC, prop):\n",
    "def transientMetricPlots(dataframe,property_name):\n",
    "    nbins = 150\n",
    "    prop_list = []\n",
    "    logloss_list = []\n",
    "    # Compute binning\n",
    "        # values in bins\n",
    "    dataframe['{}'.format(property_name)].dropna(inplace=True)\n",
    "    hist, bin_edges = np.histogram(dataframe['{}'.format(property_name)],bins=nbins) \n",
    "\n",
    "    for i in range(nbins):\n",
    "        bin_value = (bin_edges[i+1] + bin_edges[i])/2.0\n",
    "        dataframe.dropna(inplace=True, subset=['{}'.format(property_name)])\n",
    "        if re.search('nobs',property_name) is not None:\n",
    "            bin_value=np.ceil(bin_value)\n",
    "            property_subset = dataframe.query('{0} <= {2}  & {2} < {1}'.format(bin_edges[i],bin_edges[nbins-1],property_name))\n",
    "        else:\n",
    "            property_subset = dataframe.query('{0} <= {2}  & {2} < {1}'.format(bin_edges[i],bin_edges[i+1],property_name))\n",
    "        if property_subset.empty:\n",
    "            continue\n",
    "        else:\n",
    "            y_true = np.vstack(property_subset['true']) #y_true.values\n",
    "            y_pred = np.vstack(property_subset['predicted'])\n",
    "\n",
    "            y_preds = np.argmax(y_pred, axis=1)\n",
    "            y_trues = np.argmax(y_true, axis=1)\n",
    "\n",
    "            cm = confusion_matrix(y_trues, y_preds)\n",
    "            #print(\"Confusion Matrix:\\n{}\".format(cm))\n",
    "\n",
    "            logloss = log_loss(y_true, y_pred)\n",
    "            logloss_list.append(logloss)\n",
    "            prop_list.append(bin_value)\n",
    "            #print(\"Log-Loss:\\n{}\".format(logloss))\n",
    "    \n",
    "    # plot 2D classification metric (log-loss) vs property\n",
    "    fig2d, axes = plt.subplots(2,1,sharex=True,gridspec_kw={'height_ratios':[5,2]})\n",
    "    axes[0].scatter(prop_list,logloss_list)\n",
    "    axes[0].set_title('Classification Log-loss vs. {}'.format(property_name))\n",
    "    axes[0].set_xlabel('{}'.format(property_name))\n",
    "    axes[0].set_ylabel('Log-loss')\n",
    "    \n",
    "    axes[1].hist(dataframe['{}'.format(property_name)], bins=nbins)\n",
    "    axes[1].set_yscale('log')\n",
    "    axes[1].set_xlabel('{}'.format(property_name))\n",
    "    axes[1].set_ylabel('N({})'.format(property_name))\n",
    "    #To Do: - FORMAT PLOTS\n",
    "    return fig2d\n",
    "  \n",
    "    # stretch goal: heat map on sky for fun"
   ]
  },
  {
   "cell_type": "code",
   "execution_count": 3,
   "metadata": {},
   "outputs": [],
   "source": [
    "from sklearn.metrics import log_loss\n",
    "\n",
    "# inputs: confusion matrix\n",
    "# inputs: properties, RA, DEC\n",
    "\n",
    "pred_path = \"pred_DDF.csv\"\n",
    "true_path = \"truth_DDF.csv\"\n",
    "prop_path = 'obj_table_DDF.txt'\n",
    "    \n",
    "y_true = pd.read_csv(true_path, delimiter='\\s+', dtype='f', index_col= False, header=None)\n",
    "y_pred = pd.read_csv(pred_path, delimiter='\\s+', dtype='f', index_col=False, header=None)\n",
    "obj_table = pd.read_csv(prop_path, sep='\\s+',index_col=0)"
   ]
  },
  {
   "cell_type": "code",
   "execution_count": 4,
   "metadata": {},
   "outputs": [],
   "source": [
    "true_pred_df = pd.DataFrame(index=obj_table.index,columns=['true','predicted'])\n",
    "\n",
    "for k, ind in enumerate(list(obj_table.index)):\n",
    "    true_pred_df.at[ind,'true'] = np.asarray(y_true.iloc[k])\n",
    "    true_pred_df.at[ind,'predicted'] = np.asarray(y_pred.iloc[k])"
   ]
  },
  {
   "cell_type": "code",
   "execution_count": 5,
   "metadata": {},
   "outputs": [],
   "source": [
    "dataframe = obj_table.join(true_pred_df)"
   ]
  },
  {
   "cell_type": "code",
   "execution_count": 6,
   "metadata": {},
   "outputs": [
    {
     "name": "stdout",
     "output_type": "stream",
     "text": [
      "Index(['peakmjd', 'trigger_mjd', 'sim_host_redshift', 'classnum', 'ra', 'dec',\n",
      "       'mwebv', 'pu', 'pg', 'pr', 'pi', 'pz', 'pY', 'nobs_u', 'nobs_g',\n",
      "       'nobs_r', 'nobs_i', 'nobs_z', 'nobs_Y', 'deltat_u', 'deltat_g',\n",
      "       'deltat_r', 'deltat_i', 'deltat_z', 'deltat_Y', 'true', 'predicted'],\n",
      "      dtype='object')\n"
     ]
    }
   ],
   "source": [
    "print(dataframe.columns)"
   ]
  },
  {
   "cell_type": "code",
   "execution_count": 7,
   "metadata": {},
   "outputs": [
    {
     "name": "stdout",
     "output_type": "stream",
     "text": [
      "peakmjd\n",
      "trigger_mjd\n",
      "sim_host_redshift\n",
      "mwebv\n",
      "pu\n",
      "pg\n",
      "pr\n",
      "pi\n",
      "pz\n",
      "pY\n",
      "nobs_u\n",
      "nobs_g\n",
      "nobs_r\n",
      "nobs_i\n",
      "nobs_z\n",
      "nobs_Y\n",
      "deltat_u\n",
      "deltat_g\n",
      "deltat_r\n",
      "deltat_i\n",
      "deltat_z\n",
      "deltat_Y\n"
     ]
    }
   ],
   "source": [
    "for property_name in list(dataframe.columns):\n",
    "    if re.search('true',property_name) is None and re.search('predicted',property_name) is None and re.search('ra',property_name) is None and re.search('dec',property_name) is None and re.search('classnum',property_name) is None: \n",
    "        print(property_name)\n",
    "        figure2d = transientMetricPlots(deepcopy(dataframe),property_name)\n",
    "        figure2d.savefig('ddf_classification_vs_{}.pdf'.format(property_name), bbox_inches='tight')\n",
    "        plt.close(figure2d)"
   ]
  },
  {
   "cell_type": "code",
   "execution_count": null,
   "metadata": {},
   "outputs": [],
   "source": []
  }
 ],
 "metadata": {
  "kernelspec": {
   "display_name": "Python 3",
   "language": "python",
   "name": "python3"
  },
  "language_info": {
   "codemirror_mode": {
    "name": "ipython",
    "version": 3
   },
   "file_extension": ".py",
   "mimetype": "text/x-python",
   "name": "python",
   "nbconvert_exporter": "python",
   "pygments_lexer": "ipython3",
   "version": "3.5.5"
  }
 },
 "nbformat": 4,
 "nbformat_minor": 2
}
